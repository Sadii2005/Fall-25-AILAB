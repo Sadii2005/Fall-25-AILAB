{
 "cells": [
  {
   "cell_type": "markdown",
   "id": "48f53843",
   "metadata": {},
   "source": [
    " # Model-Based Reflex Agent"
   ]
  },
  {
   "cell_type": "code",
   "execution_count": 3,
   "id": "718b8890",
   "metadata": {},
   "outputs": [
    {
     "name": "stdout",
     "output_type": "stream",
     "text": [
      "19 degree → action = ON\n",
      "28 degree → action = OFF\n",
      "24 degree → action = OFF\n",
      "20 degree → action = OFF\n",
      "21 degree → action = OFF\n"
     ]
    }
   ],
   "source": [
    "class Model:\n",
    "    def __init__(self):\n",
    "        self.previous = \"OFF\"  # Store previous action (default OFF)\n",
    "\n",
    "    def select_action(self, temperature):\n",
    "\n",
    "        if temperature < 20: # Rule 1: If too cold turn heater ON\n",
    "            action = \"ON\"\n",
    "\n",
    "        elif temperature > 25: # Rule 2: If too hot turn heater OFF\n",
    "            action = \"OFF\"\n",
    "\n",
    "        else:\n",
    "            action = self.previous # Rule 3: Comfortable zone keep previous action\n",
    "            \n",
    "        self.previous = action # updation depends on action \n",
    "        return action\n",
    "var= Model()\n",
    "range = [19, 28, 24, 20, 21]\n",
    "\n",
    "for x in range:\n",
    "    print(f\"{x} degree → action = {var.select_action(x)}\")\n"
   ]
  },
  {
   "cell_type": "code",
   "execution_count": null,
   "id": "32acd3ed",
   "metadata": {},
   "outputs": [],
   "source": []
  },
  {
   "cell_type": "code",
   "execution_count": null,
   "id": "3be25b32",
   "metadata": {},
   "outputs": [],
   "source": []
  }
 ],
 "metadata": {
  "kernelspec": {
   "display_name": "base",
   "language": "python",
   "name": "python3"
  },
  "language_info": {
   "codemirror_mode": {
    "name": "ipython",
    "version": 3
   },
   "file_extension": ".py",
   "mimetype": "text/x-python",
   "name": "python",
   "nbconvert_exporter": "python",
   "pygments_lexer": "ipython3",
   "version": "3.12.7"
  }
 },
 "nbformat": 4,
 "nbformat_minor": 5
}
