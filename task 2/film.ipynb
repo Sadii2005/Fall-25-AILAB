{
 "cells": [
  {
   "cell_type": "code",
   "execution_count": 4,
   "id": "b9cda40e",
   "metadata": {},
   "outputs": [
    {
     "name": "stdout",
     "output_type": "stream",
     "text": [
      "\n",
      "The average movie budget is: $138,230,000\n",
      "\n",
      "Pirates of the Caribbean: On Stranger Tides spent $240,770,000 more than average.\n",
      "Avengers: Age of Ultron spent $226,770,000 more than average.\n",
      "Avengers: Endgame spent $217,770,000 more than average.\n",
      "Incredibles 2 spent $61,770,000 more than average.\n",
      "\n",
      "Number of movies above average: 4\n"
     ]
    }
   ],
   "source": [
    "movies = [\n",
    "    (\"Eternal Sunshine of the Spotless Mind\", 20000000),\n",
    "    (\"Memento\", 9000000),\n",
    "    (\"Requiem for a Dream\", 4500000),\n",
    "    (\"Pirates of the Caribbean: On Stranger Tides\", 379000000),\n",
    "    (\"Avengers: Age of Ultron\", 365000000),\n",
    "    (\"Avengers: Endgame\", 356000000),\n",
    "    (\"Incredibles 2\", 200000000)\n",
    "]\n",
    "\n",
    "# ask user to add more movies\n",
    "new_movies = int(input(\"How many movies would you like to add? \"))\n",
    "\n",
    "for i in range(new_movies):\n",
    "    name = input(f\"Enter the name of movie {i+1}: \")\n",
    "    budget = int(input(f\"Enter the budget of '{name}': \"))\n",
    "    movies.append((name, budget))\n",
    "\n",
    "# calculate total budget\n",
    "total_budget = 0\n",
    "for movie in movies:\n",
    "    total_budget += movie[1]\n",
    "\n",
    "# calculate average budget\n",
    "average_budget = total_budget / len(movies)\n",
    "print(f\"\\nThe average movie budget is: ${average_budget:,.0f}\\n\")\n",
    "\n",
    "# find movies above average\n",
    "above_average = []\n",
    "for movie in movies:\n",
    "    if movie[1] > average_budget:\n",
    "        difference = movie[1] - average_budget\n",
    "        print(f\"{movie[0]} spent ${difference:,.0f} more than average.\")\n",
    "        above_average.append(movie)\n",
    "\n",
    "# count them\n",
    "print(f\"\\nNumber of movies above average: {len(above_average)}\")"
   ]
  },
  {
   "cell_type": "code",
   "execution_count": null,
   "id": "0c0ed2b2",
   "metadata": {},
   "outputs": [],
   "source": []
  }
 ],
 "metadata": {
  "kernelspec": {
   "display_name": "base",
   "language": "python",
   "name": "python3"
  },
  "language_info": {
   "codemirror_mode": {
    "name": "ipython",
    "version": 3
   },
   "file_extension": ".py",
   "mimetype": "text/x-python",
   "name": "python",
   "nbconvert_exporter": "python",
   "pygments_lexer": "ipython3",
   "version": "3.12.7"
  }
 },
 "nbformat": 4,
 "nbformat_minor": 5
}
