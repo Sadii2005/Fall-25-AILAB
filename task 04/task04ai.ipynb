{
 "cells": [
  {
   "cell_type": "code",
   "execution_count": 5,
   "id": "8ba71f05",
   "metadata": {},
   "outputs": [
    {
     "name": "stdout",
     "output_type": "stream",
     "text": [
      "4539 1488 0343 is INVALID\n"
     ]
    }
   ],
   "source": [
    "def card_check(number):\n",
    "    number = number.replace(\" \", \"\")\n",
    "    nums = [int(x) for x in number]\n",
    "    add = 0\n",
    "\n",
    "    for i, value in enumerate(nums[::-1]):\n",
    "        if i % 2 == 1:\n",
    "            value *= 2\n",
    "        if value > 9:\n",
    "         value -= 9\n",
    "        add += value\n",
    "\n",
    "    return add % 10 == 0\n",
    "card_num = \"4539 1488 0343\"\n",
    "if card_check(card_num):\n",
    "    print(f\"{card_num} is VALID\")\n",
    "else:\n",
    "    print(f\"{card_num} is INVALID\")\n"
   ]
  },
  {
   "cell_type": "code",
   "execution_count": 12,
   "id": "5615c3f9",
   "metadata": {},
   "outputs": [
    {
     "name": "stdout",
     "output_type": "stream",
     "text": [
      "Original: ..WELCOME !!, what is your , good name ? ...\n",
      "After Removing: WELCOME  what is your  good name  \n"
     ]
    }
   ],
   "source": [
    "def clean_text(data):\n",
    "    symbols = \"!()-[]{};:'\\\"\\\\,<>./?@#$%^&*_~\"\n",
    "    result = \"\"\n",
    "    for ch in data:\n",
    "        if ch not in symbols:\n",
    "            result += ch\n",
    "    return result\n",
    "line = \"..WELCOME !!, what is your , good name ? ...\"\n",
    "print(\"Original:\", line)\n",
    "print(\"After Removing:\", clean_text(line))"
   ]
  },
  {
   "cell_type": "code",
   "execution_count": 2,
   "id": "f766ca46",
   "metadata": {},
   "outputs": [
    {
     "name": "stdout",
     "output_type": "stream",
     "text": [
      "The original msg: i am very hungry But i will eat FOOD at home\n",
      "After Bubble Sort: But FOOD am at eat home hungry i i very will\n"
     ]
    }
   ],
   "source": [
    "def arrange(msg):\n",
    "    words = msg.split()\n",
    "    n = len(words)\n",
    "    for i in range(n - 1):\n",
    "        for j in range(n - i - 1):\n",
    "            if words[j] > words[j + 1]:\n",
    "                words[j], words[j + 1] = words[j + 1], words[j]\n",
    "    return \" \".join(words)\n",
    "msg = \"i am very hungry But i will eat FOOD at home\"\n",
    "print(\"The original msg:\", msg)\n",
    "print(\"After Bubble Sort:\", arrange(msg))\n"
   ]
  }
 ],
 "metadata": {
  "kernelspec": {
   "display_name": "Python 3",
   "language": "python",
   "name": "python3"
  },
  "language_info": {
   "codemirror_mode": {
    "name": "ipython",
    "version": 3
   },
   "file_extension": ".py",
   "mimetype": "text/x-python",
   "name": "python",
   "nbconvert_exporter": "python",
   "pygments_lexer": "ipython3",
   "version": "3.10.11"
  }
 },
 "nbformat": 4,
 "nbformat_minor": 5
}
